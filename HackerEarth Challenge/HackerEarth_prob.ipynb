{
 "cells": [
  {
   "cell_type": "code",
   "execution_count": 173,
   "metadata": {
    "collapsed": true
   },
   "outputs": [],
   "source": [
    "import pandas as pd"
   ]
  },
  {
   "cell_type": "code",
   "execution_count": 174,
   "metadata": {},
   "outputs": [],
   "source": [
    "X_train=pd.read_csv('dataset 2/train.csv')\n",
    "X_test=pd.read_csv('dataset 2/test.csv')"
   ]
  },
  {
   "cell_type": "code",
   "execution_count": 175,
   "metadata": {
    "scrolled": false
   },
   "outputs": [
    {
     "name": "stdout",
     "output_type": "stream",
     "text": [
      "X test    A      B       C  D  E   F  G       H  I  J  K  L  M      N  O\n",
      "0  b  29.17   3.500  u  g   w  v   3.500  t  t  3  t  g  329.0  0\n",
      "1  b  28.33   5.000  u  g   w  v  11.000  t  f  0  t  g   70.0  0\n",
      "2  b  29.25  14.790  u  g  aa  v   5.040  t  t  5  t  g  168.0  0\n",
      "3  a  44.17   6.665  u  g   q  v   7.375  t  t  3  t  g    0.0  0\n",
      "4  b  18.08   5.500  u  g   k  v   0.500  t  f  0  f  g   80.0  0\n",
      "X train    A      B       C  D  E   F  G      H  I  J   K  L  M      N    O\n",
      "0  b  18.42  10.415  y  p  aa  v  0.125  t  f   0  f  g  120.0  375\n",
      "1  a  21.75  11.750  u  g   c  v  0.250  f  f   0  t  g  180.0    0\n",
      "2  b  30.17   1.085  y  p   c  v  0.040  f  f   0  f  g  170.0  179\n",
      "3  b  22.67   2.540  y  p   c  h  2.585  t  f   0  f  g    0.0    0\n",
      "4  a  36.00   1.000  u  g   c  v  2.000  t  t  11  f  g    0.0  456\n",
      "X types A     object\n",
      "B    float64\n",
      "C    float64\n",
      "D     object\n",
      "E     object\n",
      "F     object\n",
      "G     object\n",
      "H    float64\n",
      "I     object\n",
      "J     object\n",
      "K      int64\n",
      "L     object\n",
      "M     object\n",
      "N    float64\n",
      "O      int64\n",
      "dtype: object\n",
      "Y 0    1\n",
      "1    1\n",
      "2    1\n",
      "3    0\n",
      "4    0\n",
      "Name: P, dtype: int64\n"
     ]
    }
   ],
   "source": [
    "Y_train = X_train['P']\n",
    "X_train = X_train.drop(columns=['id','P'])\n",
    "X_test = X_test.drop(columns=['id'])\n",
    "print(\"X test\",X_test.head())\n",
    "print (\"X train\",X_train.head())\n",
    "print(\"X types\",X_train.dtypes)\n",
    "print(\"Y\",Y_train.head())"
   ]
  },
  {
   "cell_type": "code",
   "execution_count": 176,
   "metadata": {},
   "outputs": [
    {
     "name": "stdout",
     "output_type": "stream",
     "text": [
      "Index(['A', 'D', 'E', 'F', 'G', 'I', 'J', 'L', 'M'], dtype='object')\n"
     ]
    },
    {
     "data": {
      "text/html": [
       "<div>\n",
       "<style scoped>\n",
       "    .dataframe tbody tr th:only-of-type {\n",
       "        vertical-align: middle;\n",
       "    }\n",
       "\n",
       "    .dataframe tbody tr th {\n",
       "        vertical-align: top;\n",
       "    }\n",
       "\n",
       "    .dataframe thead th {\n",
       "        text-align: right;\n",
       "    }\n",
       "</style>\n",
       "<table border=\"1\" class=\"dataframe\">\n",
       "  <thead>\n",
       "    <tr style=\"text-align: right;\">\n",
       "      <th></th>\n",
       "      <th>A</th>\n",
       "      <th>D</th>\n",
       "      <th>E</th>\n",
       "      <th>F</th>\n",
       "      <th>G</th>\n",
       "      <th>I</th>\n",
       "      <th>J</th>\n",
       "      <th>L</th>\n",
       "      <th>M</th>\n",
       "    </tr>\n",
       "  </thead>\n",
       "  <tbody>\n",
       "  </tbody>\n",
       "</table>\n",
       "</div>"
      ],
      "text/plain": [
       "Empty DataFrame\n",
       "Columns: [A, D, E, F, G, I, J, L, M]\n",
       "Index: []"
      ]
     },
     "execution_count": 176,
     "metadata": {},
     "output_type": "execute_result"
    }
   ],
   "source": [
    "obj_df = X_train.select_dtypes(include=['object']).copy()\n",
    "print(obj_df.columns)\n",
    "obj_df.head()\n",
    "obj_df[obj_df.isnull().any(axis=1)]\n",
    "#obj_df[\"A\"].value_counts()\n",
    "#obj_df[\"D\"].value_counts()\n",
    "#obj_df[\"E\"].value_counts()\n",
    "#obj_df[\"F\"].value_counts()\n",
    "#obj_df[\"G\"].value_counts()\n",
    "obj_df = obj_df.fillna({\"A\": \"b\"})\n",
    "obj_df = obj_df.fillna({\"D\": \"u\"})\n",
    "obj_df = obj_df.fillna({\"E\": \"g\"})\n",
    "obj_df = obj_df.fillna({\"F\": \"c\"})\n",
    "obj_df = obj_df.fillna({\"G\": \"v\"})\n",
    "obj_df[obj_df.isnull().any(axis=1)]\n"
   ]
  },
  {
   "cell_type": "code",
   "execution_count": 177,
   "metadata": {},
   "outputs": [
    {
     "name": "stdout",
     "output_type": "stream",
     "text": [
      "Index(['A', 'D', 'E', 'F', 'G', 'I', 'J', 'L', 'M'], dtype='object')\n"
     ]
    },
    {
     "data": {
      "text/html": [
       "<div>\n",
       "<style scoped>\n",
       "    .dataframe tbody tr th:only-of-type {\n",
       "        vertical-align: middle;\n",
       "    }\n",
       "\n",
       "    .dataframe tbody tr th {\n",
       "        vertical-align: top;\n",
       "    }\n",
       "\n",
       "    .dataframe thead th {\n",
       "        text-align: right;\n",
       "    }\n",
       "</style>\n",
       "<table border=\"1\" class=\"dataframe\">\n",
       "  <thead>\n",
       "    <tr style=\"text-align: right;\">\n",
       "      <th></th>\n",
       "      <th>A</th>\n",
       "      <th>D</th>\n",
       "      <th>E</th>\n",
       "      <th>F</th>\n",
       "      <th>G</th>\n",
       "      <th>I</th>\n",
       "      <th>J</th>\n",
       "      <th>L</th>\n",
       "      <th>M</th>\n",
       "    </tr>\n",
       "  </thead>\n",
       "  <tbody>\n",
       "  </tbody>\n",
       "</table>\n",
       "</div>"
      ],
      "text/plain": [
       "Empty DataFrame\n",
       "Columns: [A, D, E, F, G, I, J, L, M]\n",
       "Index: []"
      ]
     },
     "execution_count": 177,
     "metadata": {},
     "output_type": "execute_result"
    }
   ],
   "source": [
    "obj_df_test = X_test.select_dtypes(include=['object']).copy()\n",
    "print(obj_df_test.columns)\n",
    "obj_df_test.head()\n",
    "obj_df_test[obj_df_test.isnull().any(axis=1)]\n",
    "#obj_df[\"A\"].value_counts()\n",
    "#obj_df[\"D\"].value_counts()\n",
    "#obj_df[\"E\"].value_counts()\n",
    "#obj_df[\"F\"].value_counts()\n",
    "#obj_df[\"G\"].value_counts()\n",
    "obj_df_test = obj_df_test.fillna({\"A\": \"b\"})\n",
    "obj_df_test = obj_df_test.fillna({\"D\": \"u\"})\n",
    "obj_df_test = obj_df_test.fillna({\"E\": \"g\"})\n",
    "obj_df_test = obj_df_test.fillna({\"F\": \"c\"})\n",
    "obj_df_test = obj_df_test.fillna({\"G\": \"v\"})\n",
    "obj_df_test[obj_df_test.isnull().any(axis=1)]"
   ]
  },
  {
   "cell_type": "code",
   "execution_count": 178,
   "metadata": {
    "scrolled": true
   },
   "outputs": [
    {
     "name": "stdout",
     "output_type": "stream",
     "text": [
      "['A', 'D', 'E', 'F', 'G', 'I', 'J', 'L', 'M']\n",
      "Index(['B', 'C', 'H', 'K', 'N', 'O'], dtype='object')\n",
      "Index(['B', 'C', 'H', 'K', 'N', 'O'], dtype='object')\n"
     ]
    }
   ],
   "source": [
    "columns = list(obj_df.columns)\n",
    "print(columns)\n",
    "X_train = X_train.drop(columns=columns)\n",
    "X_test = X_test.drop(columns = columns)\n",
    "print(X_train.columns)\n",
    "print(X_test.columns)"
   ]
  },
  {
   "cell_type": "code",
   "execution_count": 179,
   "metadata": {},
   "outputs": [
    {
     "name": "stdout",
     "output_type": "stream",
     "text": [
      "(552, 46)\n"
     ]
    }
   ],
   "source": [
    "obj_df = pd.get_dummies(obj_df, columns=[\"A\", \"D\",\"E\",\"F\",\"G\",\"I\",\"J\",\"L\",\"M\"])\n",
    "X_train = pd.concat([X_train,obj_df],axis=1)\n",
    "X_train.head()\n",
    "print(X_train.shape)"
   ]
  },
  {
   "cell_type": "code",
   "execution_count": 180,
   "metadata": {},
   "outputs": [
    {
     "name": "stdout",
     "output_type": "stream",
     "text": [
      "(138, 43)\n"
     ]
    }
   ],
   "source": [
    "obj_df_test = pd.get_dummies(obj_df_test, columns=[\"A\", \"D\",\"E\",\"F\",\"G\",\"I\",\"J\",\"L\",\"M\"])\n",
    "X_test = pd.concat([X_test,obj_df_test],axis=1)\n",
    "X_test.head()\n",
    "print(X_test.shape)"
   ]
  },
  {
   "cell_type": "code",
   "execution_count": null,
   "metadata": {
    "collapsed": true
   },
   "outputs": [],
   "source": []
  }
 ],
 "metadata": {
  "kernelspec": {
   "display_name": "Python 3",
   "language": "python",
   "name": "python3"
  },
  "language_info": {
   "codemirror_mode": {
    "name": "ipython",
    "version": 3
   },
   "file_extension": ".py",
   "mimetype": "text/x-python",
   "name": "python",
   "nbconvert_exporter": "python",
   "pygments_lexer": "ipython3",
   "version": "3.5.4"
  }
 },
 "nbformat": 4,
 "nbformat_minor": 2
}
